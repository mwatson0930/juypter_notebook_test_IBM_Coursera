{
 "cells": [
  {
   "cell_type": "markdown",
   "id": "a2ebb117-87f0-44f7-9056-e3dd705a509b",
   "metadata": {},
   "source": [
    "<H1>Data Science Tools and Ecosystem"
   ]
  },
  {
   "cell_type": "markdown",
   "id": "4859fd7e-a5ec-4cb5-acab-5a90828bbd92",
   "metadata": {},
   "source": [
    "In this notebook, Data Science Tools and Ecosystem are summarized."
   ]
  },
  {
   "cell_type": "markdown",
   "id": "3bee96d1-7d66-4e9b-8479-26f8929f9fa2",
   "metadata": {},
   "source": [
    "Some of the popular languages that Data Scientists use are:\n",
    "<ul><li>Python<li>R<li>Julia"
   ]
  },
  {
   "cell_type": "markdown",
   "id": "87b974b9-d6f4-4fff-bf4d-8091d6d4f85a",
   "metadata": {},
   "source": [
    "Some of the commonly used libraries used by Data Scientists include:\n",
    "<UL>\n",
    "    <li>ggplot\n",
    "    <li>numpy\n",
    "    <li>pandas\n",
    "    <li>scikit learn\n",
    "        "
   ]
  },
  {
   "cell_type": "markdown",
   "id": "9cbb4442-1939-468e-903d-6d557059314e",
   "metadata": {},
   "source": [
    "|Data Science Tools|\n",
    "|------------------|\n",
    "|R Studio|\n",
    "|Jupyter Notebooks|\n",
    "|Mongo DB|"
   ]
  },
  {
   "cell_type": "markdown",
   "id": "989da166-e1e8-4abb-91f4-254b88d96e2e",
   "metadata": {},
   "source": [
    "### Below are a few examples of evaluating arithmetic expressions in Python\n"
   ]
  },
  {
   "cell_type": "code",
   "execution_count": 2,
   "id": "22853d75-b49f-416a-8c29-1b038696d6e8",
   "metadata": {
    "tags": []
   },
   "outputs": [
    {
     "data": {
      "text/plain": [
       "17"
      ]
     },
     "execution_count": 2,
     "metadata": {},
     "output_type": "execute_result"
    }
   ],
   "source": [
    "#This a simple arithmetic expression to mutiply then add integers\n",
    "(3*4)+5"
   ]
  },
  {
   "cell_type": "code",
   "execution_count": 3,
   "id": "0f0b0933-6634-4eb5-b25f-9caa9d85dc1b",
   "metadata": {
    "tags": []
   },
   "outputs": [
    {
     "name": "stdout",
     "output_type": "stream",
     "text": [
      "3.3333333333333335\n"
     ]
    }
   ],
   "source": [
    "#This will convert 200 minutes to hours by diving by 60\n",
    "def minutes_to_hour(minutes):\n",
    "    hours = minutes / 60\n",
    "    return hours\n",
    "\n",
    "print(minutes_to_hour(200))\n"
   ]
  },
  {
   "cell_type": "markdown",
   "id": "234b3fa5-c9c9-485c-b10f-2646e2544cf9",
   "metadata": {},
   "source": [
    "OBJECTIVES:\n",
    "<ul>\n",
    "    <li>Review Popular Languages for Data Science\n",
    "    <li>Review Popular Tools for Data Science\n",
    "    <li>Show ability to use markdown and code cells in Jupyter Notebook\n",
    "        "
   ]
  },
  {
   "cell_type": "code",
   "execution_count": null,
   "id": "5ae4541a-fefd-4b10-86fb-a1b296424a45",
   "metadata": {},
   "outputs": [],
   "source": []
  }
 ],
 "metadata": {
  "kernelspec": {
   "display_name": "Python",
   "language": "python",
   "name": "conda-env-python-py"
  },
  "language_info": {
   "codemirror_mode": {
    "name": "ipython",
    "version": 3
   },
   "file_extension": ".py",
   "mimetype": "text/x-python",
   "name": "python",
   "nbconvert_exporter": "python",
   "pygments_lexer": "ipython3",
   "version": "3.7.12"
  }
 },
 "nbformat": 4,
 "nbformat_minor": 5
}
